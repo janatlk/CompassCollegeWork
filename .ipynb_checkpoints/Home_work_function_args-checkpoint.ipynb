{
 "cells": [
  {
   "cell_type": "markdown",
   "id": "3b85a88e",
   "metadata": {},
   "source": [
    "### 1. **Simple Abstraction and Function Creation**\n",
    "   Write a function `calculate_area` that takes the dimensions of a rectangle (length and width) as arguments and returns the area. Then, calculate the areas of multiple rectangles using this function.\n",
    "\n",
    "   **Goal**: Understand basic abstraction through the use of functions.\n",
    "\n",
    "### 2. **Modularity with Separate Functions**\n",
    "   Write a program that calculates both the area and perimeter of a rectangle. Create two separate functions: one for calculating the area and one for calculating the perimeter. Call both functions from the main code.\n",
    "\n",
    "### 3. **Function with Default Arguments**\n",
    "   Create a function `calculate_discount` that accepts a price and a discount percentage (with a default value of 10%). If no discount is provided, it applies the default discount to the price.\n",
    "\n",
    "   **Goal**: Learn to use default arguments in function definitions.\n",
    "\n",
    "### 4. **Keyword vs. Positional Arguments**\n",
    "   Write a function `display_person_info` that takes a person's name and age as arguments. Test the function by passing arguments using both positional and keyword argument styles.\n",
    "\n",
    "### 5. **Abstraction through Function Composition**\n",
    "   Create two functions: \n",
    "   - `convert_to_celsius` that converts Fahrenheit to Celsius\n",
    "   - `convert_to_kelvin` that converts Celsius to Kelvin.\n",
    "   \n",
    "   Use function composition to convert a Fahrenheit temperature to Kelvin by calling both functions in sequence.\n",
    "\n",
    "   **Goal**: Understand function composition and chaining.\n",
    "\n",
    "### 6. **Variable-Length Arguments (Args and Kwargs)**\n",
    "   Create a function `summarize_numbers` that accepts any number of numeric arguments using `*args`. The function should return the sum of the numbers. Then, create another function `describe_person` that takes a person's details like name, age, etc., using `**kwargs`, and prints them out.\n",
    "\n",
    "### 7. **Higher-Order Functions**\n",
    "   Write a function `apply_discount` that takes a list of product prices and a discount function. The discount function should be passed as an argument and applied to each price.\n",
    "\n",
    "   **Goal**: Understand higher-order functions and passing functions as arguments.\n",
    "   \n",
    "### 8. **Modularity with Multiple Files**\n",
    "   Split a program into multiple Python files:\n",
    "   - Create a file `math_operations.py` that contains basic math functions like `add`, `subtract`, `multiply`, and `divide`.\n",
    "   - Create another file `main.py` where you import and use these functions.\n",
    "\n",
    "   **Goal**: Learn how to build modular programs across multiple files.\n",
    "\n",
    "### 9. **Reusable Code with Object-Oriented Programming**\n",
    "   Define a class `Car` with attributes like `make`, `model`, and `year`. Create methods to display car details and to start the car. Instantiate multiple objects and call methods for different cars. Write brief documentaion of the main function using docstring"
   ]
  },
  {
   "cell_type": "code",
   "execution_count": null,
   "id": "550e7c29",
   "metadata": {},
   "outputs": [],
   "source": []
  }
 ],
 "metadata": {
  "kernelspec": {
   "display_name": "Python 3 (ipykernel)",
   "language": "python",
   "name": "python3"
  },
  "language_info": {
   "codemirror_mode": {
    "name": "ipython",
    "version": 3
   },
   "file_extension": ".py",
   "mimetype": "text/x-python",
   "name": "python",
   "nbconvert_exporter": "python",
   "pygments_lexer": "ipython3",
   "version": "3.9.9"
  }
 },
 "nbformat": 4,
 "nbformat_minor": 5
}
